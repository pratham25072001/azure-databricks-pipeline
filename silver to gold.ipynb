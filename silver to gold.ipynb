{
 "cells": [
  {
   "cell_type": "markdown",
   "metadata": {
    "application/vnd.databricks.v1+cell": {
     "cellMetadata": {},
     "inputWidgets": {},
     "nuid": "714f1cf5-26b1-4af7-9a84-7e7c046d3e4a",
     "showTitle": false,
     "title": ""
    }
   },
   "source": [
    "##Transforming all the tables(Changing column Names)"
   ]
  },
  {
   "cell_type": "code",
   "execution_count": 0,
   "metadata": {
    "application/vnd.databricks.v1+cell": {
     "cellMetadata": {
      "byteLimit": 2048000,
      "rowLimit": 10000
     },
     "inputWidgets": {},
     "nuid": "68c35035-44b5-4f09-a39b-627cb3e754e1",
     "showTitle": false,
     "title": ""
    }
   },
   "outputs": [],
   "source": [
    "table_name = []\n",
    "\n",
    "# List the contents of the directory and get the table names\n",
    "for i in dbutils.fs.ls('mnt/silver/SalesLT/'):\n",
    "    table_name.append(i.name.split('/')[0])"
   ]
  },
  {
   "cell_type": "code",
   "execution_count": 0,
   "metadata": {
    "application/vnd.databricks.v1+cell": {
     "cellMetadata": {
      "byteLimit": 2048000,
      "rowLimit": 10000
     },
     "inputWidgets": {},
     "nuid": "0c12064a-1e32-4b64-8a34-f7500d8dc26b",
     "showTitle": false,
     "title": ""
    }
   },
   "outputs": [
    {
     "output_type": "execute_result",
     "data": {
      "text/plain": [
       "['Address',\n",
       " 'Customer',\n",
       " 'CustomerAddress',\n",
       " 'Product',\n",
       " 'ProductCategory',\n",
       " 'ProductDescription',\n",
       " 'ProductModel',\n",
       " 'ProductModelProductDescription',\n",
       " 'SalesOrderDetail',\n",
       " 'SalesOrderHeader']"
      ]
     },
     "execution_count": 2,
     "metadata": {},
     "output_type": "execute_result"
    }
   ],
   "source": [
    "table_name"
   ]
  },
  {
   "cell_type": "code",
   "execution_count": 0,
   "metadata": {
    "application/vnd.databricks.v1+cell": {
     "cellMetadata": {
      "byteLimit": 2048000,
      "rowLimit": 10000
     },
     "inputWidgets": {},
     "nuid": "ce4eb574-81a6-4672-979d-7c61a67e4c2b",
     "showTitle": false,
     "title": ""
    }
   },
   "outputs": [
    {
     "output_type": "stream",
     "name": "stdout",
     "output_type": "stream",
     "text": [
      "Processing table: Address, Path: /mnt/silver/SalesLT/Address\nTable Address written to /mnt/gold/SalesLT/Address/\nProcessing table: Customer, Path: /mnt/silver/SalesLT/Customer\nTable Customer written to /mnt/gold/SalesLT/Customer/\nProcessing table: CustomerAddress, Path: /mnt/silver/SalesLT/CustomerAddress\nTable CustomerAddress written to /mnt/gold/SalesLT/CustomerAddress/\nProcessing table: Product, Path: /mnt/silver/SalesLT/Product\nTable Product written to /mnt/gold/SalesLT/Product/\nProcessing table: ProductCategory, Path: /mnt/silver/SalesLT/ProductCategory\nTable ProductCategory written to /mnt/gold/SalesLT/ProductCategory/\nProcessing table: ProductDescription, Path: /mnt/silver/SalesLT/ProductDescription\nTable ProductDescription written to /mnt/gold/SalesLT/ProductDescription/\nProcessing table: ProductModel, Path: /mnt/silver/SalesLT/ProductModel\nTable ProductModel written to /mnt/gold/SalesLT/ProductModel/\nProcessing table: ProductModelProductDescription, Path: /mnt/silver/SalesLT/ProductModelProductDescription\nTable ProductModelProductDescription written to /mnt/gold/SalesLT/ProductModelProductDescription/\nProcessing table: SalesOrderDetail, Path: /mnt/silver/SalesLT/SalesOrderDetail\nTable SalesOrderDetail written to /mnt/gold/SalesLT/SalesOrderDetail/\nProcessing table: SalesOrderHeader, Path: /mnt/silver/SalesLT/SalesOrderHeader\nTable SalesOrderHeader written to /mnt/gold/SalesLT/SalesOrderHeader/\n"
     ]
    }
   ],
   "source": [
    "# Loop through each table name\n",
    "for name in table_name:\n",
    "    # Construct the path for reading the delta table\n",
    "    path = '/mnt/silver/SalesLT/' + name\n",
    "    print(f\"Processing table: {name}, Path: {path}\")\n",
    "    \n",
    "    # Read the delta table into a DataFrame\n",
    "    df = spark.read.format('delta').load(path)\n",
    "\n",
    "    # Get the list of column names\n",
    "    column_names = df.columns\n",
    "\n",
    "    # Loop through each column name and rename them\n",
    "    for old_col_name in column_names:\n",
    "        new_col_name = \"\".join(\n",
    "            [\"_\" + char if char.isupper() and not old_col_name[i - 1].isupper() else char \n",
    "             for i, char in enumerate(old_col_name)]\n",
    "        ).lstrip(\"_\")\n",
    "        \n",
    "        # Rename the column in the DataFrame\n",
    "        df = df.withColumnRenamed(old_col_name, new_col_name)\n",
    "    \n",
    "    # Define the output path for writing the transformed table\n",
    "    output_path = '/mnt/gold/SalesLT/' + name + '/'\n",
    "    \n",
    "    # Write the transformed DataFrame back to the output path\n",
    "    df.write.format('delta').mode(\"overwrite\").save(output_path)\n",
    "    print(f\"Table {name} written to {output_path}\")"
   ]
  },
  {
   "cell_type": "code",
   "execution_count": 0,
   "metadata": {
    "application/vnd.databricks.v1+cell": {
     "cellMetadata": {
      "byteLimit": 2048000,
      "rowLimit": 10000
     },
     "inputWidgets": {},
     "nuid": "b7bd4ff3-d917-4188-b7de-67769743af1a",
     "showTitle": false,
     "title": ""
    }
   },
   "outputs": [
    {
     "output_type": "display_data",
     "data": {
      "text/html": [
       "<style scoped>\n",
       "  .table-result-container {\n",
       "    max-height: 300px;\n",
       "    overflow: auto;\n",
       "  }\n",
       "  table, th, td {\n",
       "    border: 1px solid black;\n",
       "    border-collapse: collapse;\n",
       "  }\n",
       "  th, td {\n",
       "    padding: 5px;\n",
       "  }\n",
       "  th {\n",
       "    text-align: left;\n",
       "  }\n",
       "</style><div class='table-result-container'><table class='table-result'><thead style='background-color: white'><tr><th>path</th><th>name</th><th>size</th><th>modificationTime</th></tr></thead><tbody><tr><td>dbfs:/mnt/gold/SalesLT/Address/</td><td>Address/</td><td>0</td><td>0</td></tr><tr><td>dbfs:/mnt/gold/SalesLT/Customer/</td><td>Customer/</td><td>0</td><td>0</td></tr><tr><td>dbfs:/mnt/gold/SalesLT/CustomerAddress/</td><td>CustomerAddress/</td><td>0</td><td>0</td></tr><tr><td>dbfs:/mnt/gold/SalesLT/Product/</td><td>Product/</td><td>0</td><td>0</td></tr><tr><td>dbfs:/mnt/gold/SalesLT/ProductCategory/</td><td>ProductCategory/</td><td>0</td><td>0</td></tr><tr><td>dbfs:/mnt/gold/SalesLT/ProductDescription/</td><td>ProductDescription/</td><td>0</td><td>0</td></tr><tr><td>dbfs:/mnt/gold/SalesLT/ProductModel/</td><td>ProductModel/</td><td>0</td><td>0</td></tr><tr><td>dbfs:/mnt/gold/SalesLT/ProductModelProductDescription/</td><td>ProductModelProductDescription/</td><td>0</td><td>0</td></tr><tr><td>dbfs:/mnt/gold/SalesLT/SalesOrderDetail/</td><td>SalesOrderDetail/</td><td>0</td><td>0</td></tr><tr><td>dbfs:/mnt/gold/SalesLT/SalesOrderHeader/</td><td>SalesOrderHeader/</td><td>0</td><td>0</td></tr></tbody></table></div>"
      ]
     },
     "metadata": {
      "application/vnd.databricks.v1+output": {
       "addedWidgets": {},
       "aggData": [],
       "aggError": "",
       "aggOverflow": false,
       "aggSchema": [],
       "aggSeriesLimitReached": false,
       "aggType": "",
       "arguments": {},
       "columnCustomDisplayInfos": {},
       "data": [
        [
         "dbfs:/mnt/gold/SalesLT/Address/",
         "Address/",
         0,
         0
        ],
        [
         "dbfs:/mnt/gold/SalesLT/Customer/",
         "Customer/",
         0,
         0
        ],
        [
         "dbfs:/mnt/gold/SalesLT/CustomerAddress/",
         "CustomerAddress/",
         0,
         0
        ],
        [
         "dbfs:/mnt/gold/SalesLT/Product/",
         "Product/",
         0,
         0
        ],
        [
         "dbfs:/mnt/gold/SalesLT/ProductCategory/",
         "ProductCategory/",
         0,
         0
        ],
        [
         "dbfs:/mnt/gold/SalesLT/ProductDescription/",
         "ProductDescription/",
         0,
         0
        ],
        [
         "dbfs:/mnt/gold/SalesLT/ProductModel/",
         "ProductModel/",
         0,
         0
        ],
        [
         "dbfs:/mnt/gold/SalesLT/ProductModelProductDescription/",
         "ProductModelProductDescription/",
         0,
         0
        ],
        [
         "dbfs:/mnt/gold/SalesLT/SalesOrderDetail/",
         "SalesOrderDetail/",
         0,
         0
        ],
        [
         "dbfs:/mnt/gold/SalesLT/SalesOrderHeader/",
         "SalesOrderHeader/",
         0,
         0
        ]
       ],
       "datasetInfos": [],
       "dbfsResultPath": null,
       "isJsonSchema": true,
       "metadata": {},
       "overflow": false,
       "plotOptions": {
        "customPlotOptions": {},
        "displayType": "table",
        "pivotAggregation": null,
        "pivotColumns": null,
        "xColumns": null,
        "yColumns": null
       },
       "removedWidgets": [],
       "schema": [
        {
         "metadata": "{}",
         "name": "path",
         "type": "\"string\""
        },
        {
         "metadata": "{}",
         "name": "name",
         "type": "\"string\""
        },
        {
         "metadata": "{}",
         "name": "size",
         "type": "\"long\""
        },
        {
         "metadata": "{}",
         "name": "modificationTime",
         "type": "\"long\""
        }
       ],
       "type": "table"
      }
     },
     "output_type": "display_data"
    }
   ],
   "source": [
    "#display(dbutils.fs.ls('/mnt/gold/SalesLT/'))"
   ]
  },
  {
   "cell_type": "code",
   "execution_count": 0,
   "metadata": {
    "application/vnd.databricks.v1+cell": {
     "cellMetadata": {},
     "inputWidgets": {},
     "nuid": "9efe54d4-3015-4e69-b706-362912ba9f0e",
     "showTitle": false,
     "title": ""
    }
   },
   "outputs": [],
   "source": []
  }
 ],
 "metadata": {
  "application/vnd.databricks.v1+notebook": {
   "dashboards": [],
   "environmentMetadata": null,
   "language": "python",
   "notebookMetadata": {
    "pythonIndentUnit": 4
   },
   "notebookName": "silver to gold",
   "widgets": {}
  }
 },
 "nbformat": 4,
 "nbformat_minor": 0
}
