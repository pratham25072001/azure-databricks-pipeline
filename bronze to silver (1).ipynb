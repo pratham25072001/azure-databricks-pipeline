{
 "cells": [
  {
   "cell_type": "markdown",
   "metadata": {
    "application/vnd.databricks.v1+cell": {
     "cellMetadata": {},
     "inputWidgets": {},
     "nuid": "4172a83c-cb90-4673-85fc-67b1a8850233",
     "showTitle": false,
     "title": ""
    }
   },
   "source": [
    "## Doing Transformations on All the Tables (Changing dateformats)"
   ]
  },
  {
   "cell_type": "code",
   "execution_count": 0,
   "metadata": {
    "application/vnd.databricks.v1+cell": {
     "cellMetadata": {
      "byteLimit": 2048000,
      "rowLimit": 10000
     },
     "inputWidgets": {},
     "nuid": "46508358-042e-4e6d-a81e-99ec6cfe19e0",
     "showTitle": false,
     "title": ""
    }
   },
   "outputs": [],
   "source": [
    "#creating a for loop which  will automate the work of reading the tables from the folder\n",
    "table_name = []\n",
    "\n",
    "for i in dbutils.fs.ls('mnt/bronze/SalesLT/'):\n",
    " table_name.append(i.name.split('/')[0])"
   ]
  },
  {
   "cell_type": "code",
   "execution_count": 0,
   "metadata": {
    "application/vnd.databricks.v1+cell": {
     "cellMetadata": {
      "byteLimit": 2048000,
      "rowLimit": 10000
     },
     "inputWidgets": {},
     "nuid": "da0a9040-141e-4a72-93a6-2598413168b2",
     "showTitle": false,
     "title": ""
    }
   },
   "outputs": [
    {
     "output_type": "execute_result",
     "data": {
      "text/plain": [
       "['Address ',\n",
       " 'Customer ',\n",
       " 'CustomerAddress ',\n",
       " 'Product ',\n",
       " 'ProductCategory ',\n",
       " 'ProductDescription ',\n",
       " 'ProductModel ',\n",
       " 'ProductModelProductDescription ',\n",
       " 'SalesOrderDetail ',\n",
       " 'SalesOrderHeader ']"
      ]
     },
     "execution_count": 16,
     "metadata": {},
     "output_type": "execute_result"
    }
   ],
   "source": [
    "table_name"
   ]
  },
  {
   "cell_type": "code",
   "execution_count": 0,
   "metadata": {
    "application/vnd.databricks.v1+cell": {
     "cellMetadata": {
      "byteLimit": 2048000,
      "rowLimit": 10000
     },
     "inputWidgets": {},
     "nuid": "9e26f5a0-a0af-4850-9201-3b00cd0ecdb9",
     "showTitle": false,
     "title": ""
    }
   },
   "outputs": [],
   "source": [
    "from pyspark.sql.functions import from_utc_timestamp, date_format\n",
    "from pyspark.sql.types import TimestampType\n",
    "\n",
    "# Here we are using 'i' to extract the table name from the list\n",
    "for i in table_name:\n",
    "    # Strip any extra spaces from 'i' to avoid path issues\n",
    "    path = '/mnt/bronze/SalesLT/' + i.strip() + '/' + i.strip() + '.parquet'   #<<<<< Corrected path\n",
    "    df = spark.read.format('parquet').load(path)\n",
    "    columns = df.columns\n",
    "\n",
    "    # Creating a loop to check if any of the columns have 'Date' or 'date' in it\n",
    "    for col in columns:\n",
    "        if \"Date\" in col or \"date\" in col:\n",
    "            \n",
    "            df = df.withColumn(col, date_format(from_utc_timestamp(df[col].cast(TimestampType()), \"UTC\"), \"yyyy-MM-dd\"))\n",
    "\n",
    "    # Writing the data to the silver table\n",
    "    output_path = '/mnt/silver/SalesLT/' + i.strip() + '/'\n",
    "    df.write.format('delta').mode('overwrite').save(output_path)  # Storing the data in Delta format\n"
   ]
  },
  {
   "cell_type": "code",
   "execution_count": 0,
   "metadata": {
    "application/vnd.databricks.v1+cell": {
     "cellMetadata": {},
     "inputWidgets": {},
     "nuid": "1a283a6c-0e57-4391-b124-3c82020cbec3",
     "showTitle": false,
     "title": ""
    }
   },
   "outputs": [],
   "source": []
  }
 ],
 "metadata": {
  "application/vnd.databricks.v1+notebook": {
   "dashboards": [],
   "environmentMetadata": null,
   "language": "python",
   "notebookMetadata": {
    "pythonIndentUnit": 4
   },
   "notebookName": "bronze to silver",
   "widgets": {}
  }
 },
 "nbformat": 4,
 "nbformat_minor": 0
}
